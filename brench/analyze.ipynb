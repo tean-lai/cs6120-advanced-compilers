{
 "cells": [
  {
   "cell_type": "code",
   "execution_count": null,
   "metadata": {},
   "outputs": [],
   "source": [
    "import csv"
   ]
  },
  {
   "cell_type": "code",
   "execution_count": null,
   "metadata": {},
   "outputs": [],
   "source": [
    "with open(\"brench/results.csv\") as f:\n",
    "    csv_reader = csv.reader(f)\n",
    "\n",
    "    baseline = []\n",
    "    lvn_tdce = []\n",
    "    tests = []\n",
    "    for row in csv_reader:\n",
    "        if 'baseline' in row:\n",
    "            baseline.append(int(row[2]))\n",
    "            tests.append(row[0])\n",
    "        elif 'lvn_tcde' in row:\n",
    "            lvn_tdce.append(int(row[2]))\n",
    "\n",
    "\n",
    "    diff = []\n",
    "    print(len(baseline), len(lvn_tdce))\n",
    "    for i in range(len(baseline)):\n",
    "        diff.append(baseline[i] - lvn_tdce[i])\n",
    "    \n",
    "    max_i = 0\n",
    "    max_diff = diff[0]\n",
    "    for i in range(len(diff)):\n",
    "        if diff[i] > max_diff:\n",
    "            max_i, max_diff = i, diff[i]\n",
    "    print(\"biggest diff\", tests[max_i])\n",
    "\n",
    "    print(diff)\n",
    "\n"
   ]
  }
 ],
 "metadata": {
  "language_info": {
   "name": "python"
  }
 },
 "nbformat": 4,
 "nbformat_minor": 2
}
